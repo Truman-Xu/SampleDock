{
 "cells": [
  {
   "cell_type": "markdown",
   "metadata": {},
   "source": [
    "## Generates SMILE based on input SMILES"
   ]
  },
  {
   "cell_type": "code",
   "execution_count": 1,
   "metadata": {},
   "outputs": [],
   "source": [
    "import torch\n",
    "import torch.nn as nn"
   ]
  },
  {
   "cell_type": "code",
   "execution_count": 3,
   "metadata": {},
   "outputs": [],
   "source": [
    "import sys\n",
    "sys.path.append('/home/ziqiaoxu/Sample&Dock_DnD/fast_jtnn/')\n",
    "\n",
    "from mol_tree import Vocab\n",
    "from jtnn_vae import JTNNVAE\n",
    "\n",
    "## Load Stock JTNN VAE Model\n",
    "vocab_loc = '/home/ziqiaoxu/Sample&Dock_DnD/moses/vocab.txt'\n",
    "vocab = [x.strip(\"\\r\\n \") for x in open(vocab_loc)]\n",
    "vocab = Vocab(vocab)\n",
    "\n",
    "hidden_size = 450\n",
    "latent_size = 56  #28 for each latent vector\n",
    "depthT = 20\n",
    "depthG = 3\n",
    "model_loc = '/home/ziqiaoxu/Sample&Dock_DnD/training/moses-h450z56/model.iter-400000'\n",
    "\n",
    "jtnn = JTNNVAE(vocab, hidden_size, latent_size, depthT, depthG)\n",
    "device = torch.device(\"cuda\" if torch.cuda.is_available() else \"cpu\")\n",
    "jtnn.load_state_dict(torch.load(model_loc, map_location=device))\n",
    "\n",
    "from torch.autograd import Variable\n",
    "from nnutils import create_var\n",
    "from rdkit import rdBase\n",
    "## Disable rdkit Logs\n",
    "rdBase.DisableLog('rdApp.error')\n",
    "\n",
    "def z_vecs(x_mean, x_log_var):\n",
    "    \n",
    "    epsilon = create_var(torch.randn_like(x_mean))\n",
    "    z_vecs = x_mean + torch.exp(x_log_var / 2) * epsilon\n",
    "    return z_vecs\n",
    "\n",
    "def smiles_gen(smiles,ndesigns):\n",
    "    ## Convert smiles to one-hot encoding (altered function from original code)\n",
    "    x_tree, x_mol = jtnn.encode_from_smiles_xs(smiles)\n",
    "    ## Encode one-hots to z-mean and compute log var. Following Mueller et al.\n",
    "    tree_mean = jtnn.T_mean(x_tree)\n",
    "    tree_log_var = -torch.abs(jtnn.T_var(x_tree)) \n",
    "    mol_mean = jtnn.G_mean(x_mol)\n",
    "    mol_log_var = -torch.abs(jtnn.G_var(x_mol))\n",
    "\n",
    "    smiles_list = []\n",
    "    for i in range(ndesigns):\n",
    "        ## generate latent vectors (stochastic)\n",
    "        z_tree = z_vecs(tree_mean, tree_log_var)\n",
    "        z_mol = z_vecs(mol_mean, mol_log_var)\n",
    "        ## decode back to smiles\n",
    "        smilesout = jtnn.decode(z_tree,z_mol,False)\n",
    "        ## Check if the smiles already exists\n",
    "        if smilesout not in smiles_list:\n",
    "            smiles_list.append(smilesout)    \n",
    "    return smiles_list\n",
    "\n",
    "def smiles_to_sdfile(smiles_list):\n",
    "    for i, x in enumerate(smiles_list):\n",
    "        name = 'design_'+str(i)\n",
    "        output = '%s/design/'%(directory)+name+'.sd'\n",
    "        m2 = Chem.MolFromSmiles(x)\n",
    "        AllChem.Compute2DCoords(m2)\n",
    "        m2.SetProp(\"_Name\", name)\n",
    "        m3 = Chem.AddHs(m2)\n",
    "        AllChem.EmbedMolecule(m3,AllChem.ETKDG())\n",
    "        w = Chem.SDWriter(output)\n",
    "        w.write(m3)\n",
    "        w.flush()\n"
   ]
  },
  {
   "cell_type": "code",
   "execution_count": 13,
   "metadata": {},
   "outputs": [],
   "source": [
    "smi = smiles_gen('Brc1cnn(-c2ccc(-c3nc[nH]n3)cc2)c1',20)"
   ]
  },
  {
   "cell_type": "code",
   "execution_count": null,
   "metadata": {},
   "outputs": [],
   "source": []
  }
 ],
 "metadata": {
  "kernelspec": {
   "display_name": "Python 3",
   "language": "python",
   "name": "python3"
  },
  "language_info": {
   "codemirror_mode": {
    "name": "ipython",
    "version": 3
   },
   "file_extension": ".py",
   "mimetype": "text/x-python",
   "name": "python",
   "nbconvert_exporter": "python",
   "pygments_lexer": "ipython3",
   "version": "3.7.6"
  }
 },
 "nbformat": 4,
 "nbformat_minor": 4
}
