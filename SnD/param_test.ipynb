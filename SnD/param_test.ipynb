{
 "cells": [
  {
   "cell_type": "code",
   "execution_count": 1,
   "metadata": {},
   "outputs": [],
   "source": [
    "class param_loader(object):\n",
    "    def __init__(self,filename=\"hyper.param\"):\n",
    "        FILE = open(filename)\n",
    "        print('Parameters are loaded as below\\n')\n",
    "        for l in FILE:\n",
    "            if l.startswith(\"#\") or l.isspace(): pass\n",
    "            else: \n",
    "                if \"#\" in l: l = l.split(\"#\",1)[0]\n",
    "                name, value = l.split(\"=\",1)\n",
    "                name = name.strip(\"\\r\\n \")\n",
    "                value = value.strip(\"\\r\\n \")\n",
    "                if value.isdigit(): value = int(value)\n",
    "                setattr(self,name,value)\n",
    "                print(name,\":\",value)\n",
    "        FILE.close()\n",
    "        self.vocab = [x.strip(\"\\r\\n \") for x in open(self.vocab_loc)]"
   ]
  },
  {
   "cell_type": "code",
   "execution_count": 9,
   "metadata": {},
   "outputs": [
    {
     "name": "stdout",
     "output_type": "stream",
     "text": [
      "Parameters are loaded as below\n",
      "\n",
      "vocab_loc : ../moses/vocab.txt\n",
      "hidden_size : 450\n",
      "latent_size : 56\n",
      "depthT : 20\n",
      "depthG : 3\n",
      "model_loc : ../models/moses-h450z56/model.iter-400000\n",
      "receptor_name : RECEPTOR\n",
      "receptor_file : ../targets/CDK2_5IEV/5IEV.mol2\n",
      "ligand_file : ../targets/CDK2_5IEV/Roniciclib.sd\n",
      "cavity_protocol : rbcavity -was -d -r\n",
      "ncycle : 5\n",
      "ndesign : 20\n",
      "seed_smi : C1=CC=CC=C1\n"
     ]
    }
   ],
   "source": [
    "p = param_loader('hyper.param')"
   ]
  },
  {
   "cell_type": "code",
   "execution_count": 3,
   "metadata": {},
   "outputs": [
    {
     "data": {
      "text/plain": [
       "'rbcavity -was -d -r'"
      ]
     },
     "execution_count": 3,
     "metadata": {},
     "output_type": "execute_result"
    }
   ],
   "source": [
    "p.cavity_protocol"
   ]
  },
  {
   "cell_type": "code",
   "execution_count": 4,
   "metadata": {},
   "outputs": [],
   "source": [
    "from pocket_prepare import prep_prm \n",
    "import os\n",
    "import subprocess"
   ]
  },
  {
   "cell_type": "code",
   "execution_count": null,
   "metadata": {},
   "outputs": [],
   "source": [
    "prmfile = prep_prm(p.receptor_file,p.ligand_file,p.receptor_name)"
   ]
  },
  {
   "cell_type": "code",
   "execution_count": 6,
   "metadata": {},
   "outputs": [
    {
     "name": "stdout",
     "output_type": "stream",
     "text": [
      "Docking pocket grid created for: \n",
      "/home/ziqiaoxu/Sample_Dock_DnD/SnD/RECEPTOR/cavity/pocket_docking.prm\n"
     ]
    }
   ],
   "source": [
    "cmdline = \"rbcavity -was -d -r %s\"%prmfile\n",
    "proc = subprocess.Popen(cmdline, shell=True)\n",
    "proc.wait()\n",
    "print('Docking pocket grid created for: \\n'+prmfile)"
   ]
  },
  {
   "cell_type": "code",
   "execution_count": 7,
   "metadata": {},
   "outputs": [
    {
     "data": {
      "text/plain": [
       "'rbcavity -was -d -r /home/ziqiaoxu/Sample_Dock_DnD/SnD/RECEPTOR/cavity/pocket_docking.prm'"
      ]
     },
     "execution_count": 7,
     "metadata": {},
     "output_type": "execute_result"
    }
   ],
   "source": [
    "cmdline"
   ]
  },
  {
   "cell_type": "code",
   "execution_count": null,
   "metadata": {},
   "outputs": [],
   "source": []
  }
 ],
 "metadata": {
  "kernelspec": {
   "display_name": "Python 3",
   "language": "python",
   "name": "python3"
  },
  "language_info": {
   "codemirror_mode": {
    "name": "ipython",
    "version": 3
   },
   "file_extension": ".py",
   "mimetype": "text/x-python",
   "name": "python",
   "nbconvert_exporter": "python",
   "pygments_lexer": "ipython3",
   "version": "3.7.6"
  }
 },
 "nbformat": 4,
 "nbformat_minor": 4
}
