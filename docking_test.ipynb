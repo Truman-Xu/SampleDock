{
 "cells": [
  {
   "cell_type": "markdown",
   "metadata": {},
   "source": [
    "Stage 1: Clean up the code and modulize\n",
    "1. Simplified VAE util\n",
    "2. Sample and dock mol gen Script\n",
    "3. Docking bash script\n",
    "4. Score Processing script\n",
    "5. Fingerprint script\n",
    "6. Clustering script\n",
    "7. Wrapper bash script <br>\n",
    "Stage 2: Performance improvement <br>\n",
    "Maybe compile most of the functions and write and compile the wrapper in C++?"
   ]
  },
  {
   "cell_type": "code",
   "execution_count": 1,
   "metadata": {},
   "outputs": [],
   "source": [
    "import sys\n",
    "import os\n",
    "sys.path.append('/home/ziqiaoxu/Sample_Dock_DnD/jtvae/')\n",
    "sys.path.append('/home/ziqiaoxu/Sample_Dock_DnD/SnD/')\n",
    "from sampler import hyperparam_loader\n",
    "\n",
    "from mol_tree import Vocab\n",
    "from jtnn_vae import JTNNVAE\n",
    "import torch"
   ]
  },
  {
   "cell_type": "code",
   "execution_count": 2,
   "metadata": {},
   "outputs": [],
   "source": [
    "import sys\n",
    "from SnD import dock, sort_pose, save_pose, smiles_to_sdfile"
   ]
  },
  {
   "cell_type": "code",
   "execution_count": 30,
   "metadata": {},
   "outputs": [
    {
     "name": "stdout",
     "output_type": "stream",
     "text": [
      "\n",
      "########### Parameters Loaded as Below ###########\n",
      "\n",
      "receptor_name : CDK2-5IEV\n",
      "receptor_file : ./targets/CDK2_5IEV/5IEV.mol2\n",
      "ligand_file : ./targets/CDK2_5IEV/Roniciclib.sd\n",
      "cavity_protocol : rbcavity -was -d -r\n",
      "docking_prm : dock.prm\n",
      "npose : 100\n",
      "prefix : pose_docked_\n",
      "sort_by : SCORE.INTER\n",
      "vocab_loc : ./models/moses-h450z56/vocab.txt\n",
      "hidden_size : 450\n",
      "latent_size : 56\n",
      "depthT : 20\n",
      "depthG : 3\n",
      "model_loc : ./models/moses-h450z56/model.iter-400000\n",
      "ncycle : 5\n",
      "ndesign : 20\n",
      "seed_smi : C1=CC=CC=C1\n",
      "\n",
      "##################################################\n",
      "\n"
     ]
    }
   ],
   "source": [
    "p = hyperparam_loader('test_hyper.param')"
   ]
  },
  {
   "cell_type": "code",
   "execution_count": 31,
   "metadata": {},
   "outputs": [
    {
     "data": {
      "text/plain": [
       "<All keys matched successfully>"
      ]
     },
     "execution_count": 31,
     "metadata": {},
     "output_type": "execute_result"
    }
   ],
   "source": [
    "vocab = Vocab(p.vocab)\n",
    "jtvae = JTNNVAE(vocab, p.hidden_size, p.latent_size, p.depthT, p.depthG)\n",
    "device = torch.device(\"cuda\" if torch.cuda.is_available() else \"cpu\")\n",
    "jtvae.load_state_dict(torch.load(p.model_loc, map_location=device))"
   ]
  },
  {
   "cell_type": "code",
   "execution_count": 32,
   "metadata": {},
   "outputs": [],
   "source": [
    "prmfile = os.path.abspath('./test/CDK2/cavity/pocket_docking.prm')\n",
    "wd = os.path.abspath('./test/CDK2/')"
   ]
  },
  {
   "cell_type": "code",
   "execution_count": null,
   "metadata": {},
   "outputs": [],
   "source": [
    "## VAE encoding and decoding on the first seeding smiles\n",
    "design_list = jtvae.smiles_gen(p.seed_smi, p.ndesign)\n",
    "\n",
    "## Main loop: VAE on subsequent returned compounds\n",
    "for j in range(p.ncycle):\n",
    "    \n",
    "    design_dir = os.path.abspath(os.path.join(wd,'cycle_%s'%j))\n",
    "    docking_dir = os.path.abspath(os.path.join(design_dir, 'docking'))\n",
    "    try: os.makedirs(docking_dir)\n",
    "    except FileExistsError: print(docking_dir,'Overwritten')\n",
    "    \n",
    "    ## write .sdf file and get ligs file names\n",
    "    ligs = smiles_to_sdfile(design_list,design_dir)\n",
    "    \n",
    "    ## Generate docking scores from .sd files\n",
    "    dock(ligs, docking_dir, prmfile, p.docking_prm, p.npose, p.prefix)\n",
    "    ranked_poses = sort_pose(docking_dir, p.sort_by, p.prefix)\n",
    "    save_pose(ranked_poses, design_dir)\n",
    "    \n",
    "    ## announce the winner\n",
    "    best_energy, name, best_mol = ranked_poses[0]\n",
    "    best_smi = best_mol.GetProp('SMILES')\n",
    "    print(\"[INFO] Cycle %s: %s %s kcal/mol          \"%(j, best_smi, best_energy))\n",
    "    \n",
    "    ## generate for next cycle\n",
    "    design_list = jtvae.smiles_gen(best_smi, p.ndesign)"
   ]
  },
  {
   "cell_type": "code",
   "execution_count": 35,
   "metadata": {},
   "outputs": [],
   "source": [
    "smi = jtvae.smiles_gen('Brc1cnn(-c2ccc(-c3nc[nH]n3)cc2)c1',20)"
   ]
  },
  {
   "cell_type": "code",
   "execution_count": null,
   "metadata": {},
   "outputs": [],
   "source": []
  }
 ],
 "metadata": {
  "kernelspec": {
   "display_name": "Python 3",
   "language": "python",
   "name": "python3"
  },
  "language_info": {
   "codemirror_mode": {
    "name": "ipython",
    "version": 3
   },
   "file_extension": ".py",
   "mimetype": "text/x-python",
   "name": "python",
   "nbconvert_exporter": "python",
   "pygments_lexer": "ipython3",
   "version": "3.7.6"
  }
 },
 "nbformat": 4,
 "nbformat_minor": 4
}
